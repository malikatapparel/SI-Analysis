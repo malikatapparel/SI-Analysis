{
 "cells": [
  {
   "cell_type": "code",
   "execution_count": null,
   "id": "47b42784",
   "metadata": {},
   "outputs": [],
   "source": [
    "import pandas as pd\n",
    "import numpy as np\n",
    "from scipy import stats\n",
    "from pandas_profiling import ProfileReport\n",
    "import matplotlib.pyplot as plt\n",
    "import seaborn as sns\n",
    "from statsmodels.regression.linear_model import OLS\n",
    "import statsmodels.api as sm\n",
    "\n",
    "\n",
    "#To define the datasets to be substracted from one another\n",
    "path0 = \"/Users/malika/Documents/Five Lives/SI Data Analysis/LifestyleCognition/Datasets & Data cleaning/df0_clean.csv\"\n",
    "df0 = pd.read_csv(path0)\n",
    "df0 = df0.drop('Unnamed: 0', axis=1)\n",
    "df0 = df0.set_index('participant_id')\n",
    "df0['A0male'] = pd.get_dummies(df0['A0sex'], drop_first=True)\n",
    "\n",
    "path1 = \"/Users/malika/Documents/Five Lives/SI Data Analysis/LifestyleCognition/Datasets & Data cleaning/df1_clean.csv\"\n",
    "df1 = pd.read_csv(path1)\n",
    "df1 = df1.drop('Unnamed: 0', axis=1)\n",
    "df1 = df1.set_index('participant_id')\n",
    "df1['A1male'] = pd.get_dummies(df1['A1sex'], drop_first=True)\n",
    "\n",
    "\n",
    "path2 = \"/Users/malika/Documents/Five Lives/SI Data Analysis/LifestyleCognition/Datasets & Data cleaning/df2_clean.csv\"\n",
    "df2 = pd.read_csv(path2)\n",
    "df2 = df2.drop('Unnamed: 0', axis=1)\n",
    "df2 = df2.set_index('participant_id')\n",
    "df2['A2male'] = pd.get_dummies(df2['A2sex'], drop_first=True)"
   ]
  },
  {
   "cell_type": "code",
   "execution_count": null,
   "id": "b23a87fd",
   "metadata": {},
   "outputs": [],
   "source": [
    "df0"
   ]
  },
  {
   "cell_type": "code",
   "execution_count": null,
   "id": "69ee3265",
   "metadata": {},
   "outputs": [],
   "source": [
    "# to define the assessment index\n",
    "\n",
    "A0 = 'A0'\n",
    "A1 = 'A1'\n",
    "A2 = 'A2'\n",
    "\n",
    "#Variables only for lifestyle\n",
    "\n",
    "lifestyle = ['PA_duration',\n",
    " 'PA_intensity',\n",
    " 'PA_score',\n",
    " 'smoking_situation',\n",
    " 'smoking_amount',\n",
    " 'socialI',\n",
    " 'loneliness',\n",
    " 'sleep_problems',\n",
    " 'fruit_veg',\n",
    " 'alcohol_unit',\n",
    " 'glasses_water',\n",
    " 'time_reading',\n",
    " 'time_mental_stimulation',\n",
    " 'time_instrument',\n",
    " 'time_skill',\n",
    " 'relaxed_scale',\n",
    " 'mood_rate',\n",
    " 'enjoyment_activities']\n",
    "\n"
   ]
  },
  {
   "cell_type": "code",
   "execution_count": null,
   "id": "3501e0da",
   "metadata": {},
   "outputs": [],
   "source": [
    "lifestyleA0 = []\n",
    "for i in lifestyle:\n",
    "    lifestyleA0.append(A0 + i)\n",
    "    \n",
    "lifestyleA1 = []\n",
    "for i in lifestyle:\n",
    "    lifestyleA1.append(A1 + i)\n",
    "\n",
    "lifestyleA2 = []\n",
    "for i in lifestyle:\n",
    "    lifestyleA2.append(A2 + i)"
   ]
  },
  {
   "cell_type": "code",
   "execution_count": null,
   "id": "6bd10978",
   "metadata": {},
   "outputs": [],
   "source": []
  },
  {
   "cell_type": "code",
   "execution_count": null,
   "id": "f5b8ce5d",
   "metadata": {},
   "outputs": [],
   "source": [
    "##Joins dataset into a bigger dfL dataset \n",
    "dfL0 = df0[lifestyleA0]\n",
    "dfL1 = df1[lifestyleA1]\n",
    "dfL01 = dfL0.join(dfL1)"
   ]
  },
  {
   "cell_type": "code",
   "execution_count": null,
   "id": "c128de1d",
   "metadata": {
    "scrolled": true
   },
   "outputs": [],
   "source": [
    "dfL01"
   ]
  },
  {
   "cell_type": "code",
   "execution_count": null,
   "id": "32c95e8f",
   "metadata": {},
   "outputs": [],
   "source": [
    "results = []\n",
    "for var in lifestyle:\n",
    "    var0 = A0 + var\n",
    "    var2 = A1 + var\n",
    "    results.append(var0 + var2 + ' Results')\n",
    "\n",
    "    df = dfL01[[var0, var2]]\n",
    "    df = df.dropna(axis=0)\n",
    "\n",
    "    # Shapiro-Wilk test for normality\n",
    "    #A0\n",
    "    statistic, pvalue = stats.shapiro(df[var0])\n",
    "    if pvalue >= 0.05:\n",
    "        results.append('Not normally distributed')\n",
    "    elif pvalue < 0.05:\n",
    "        results.append('Normally distributed')\n",
    "\n",
    "    # Shapiro-Wilk test for normality\n",
    "    statistic, pvalue = stats.shapiro(df[var2])\n",
    "    if pvalue >= 0.05:\n",
    "        results.append('Not normally distributed')\n",
    "    elif pvalue < 0.05:\n",
    "        results.append('Normally distributed')\n",
    "\n",
    "\n",
    "    # T test\n",
    "    t_value, p_value = stats.ttest_rel(df[var0], df[var2])\n",
    "    two_tailed_p_value=float(\"{:.6f}\".format(p_value)) \n",
    "\n",
    "    results.append('Test statistic is %f'%float(\"{:.6f}\".format(t_value)))\n",
    "\n",
    "    results.append('p-value for two_tailed_test is %f'%two_tailed_p_value)\n",
    "\n",
    "    alpha = 0.05\n",
    "\n",
    "    if two_tailed_p_value<=alpha:\n",
    "\n",
    "        results.append('significant difference')\n",
    "\n",
    "    else:\n",
    "\n",
    "        results.append('Non-significant difference')\n",
    "\n",
    "    results.append('-----------')"
   ]
  },
  {
   "cell_type": "code",
   "execution_count": null,
   "id": "c436b321",
   "metadata": {},
   "outputs": [],
   "source": [
    "results"
   ]
  },
  {
   "cell_type": "code",
   "execution_count": null,
   "id": "ce0e88be",
   "metadata": {},
   "outputs": [],
   "source": []
  }
 ],
 "metadata": {
  "kernelspec": {
   "display_name": "Python 3 (ipykernel)",
   "language": "python",
   "name": "python3"
  },
  "language_info": {
   "codemirror_mode": {
    "name": "ipython",
    "version": 3
   },
   "file_extension": ".py",
   "mimetype": "text/x-python",
   "name": "python",
   "nbconvert_exporter": "python",
   "pygments_lexer": "ipython3",
   "version": "3.8.2"
  }
 },
 "nbformat": 4,
 "nbformat_minor": 5
}
