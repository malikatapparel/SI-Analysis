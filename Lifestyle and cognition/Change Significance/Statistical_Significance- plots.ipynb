{
 "cells": [
  {
   "cell_type": "code",
   "execution_count": null,
   "id": "47b42784",
   "metadata": {},
   "outputs": [],
   "source": [
    "import pandas as pd\n",
    "import numpy as np\n",
    "from scipy import stats\n",
    "from pandas_profiling import ProfileReport\n",
    "import matplotlib.pyplot as plt\n",
    "import seaborn as sns\n",
    "from statsmodels.regression.linear_model import OLS\n",
    "import statsmodels.api as sm\n",
    "\n",
    "\n",
    "#To define the datasets to be substracted from one another\n",
    "path0 = \"/Users/malika/Documents/Five Lives/SI Data Analysis/LifestyleCognition/Datasets & Data cleaning/df0_clean.csv\"\n",
    "df0 = pd.read_csv(path0)\n",
    "df0 = df0.drop('Unnamed: 0', axis=1)\n",
    "df0 = df0.set_index('participant_id')\n",
    "df0['A0male'] = pd.get_dummies(df0['A0sex'], drop_first=True)\n",
    "\n",
    "path1 = \"/Users/malika/Documents/Five Lives/SI Data Analysis/LifestyleCognition/Datasets & Data cleaning/df1_clean.csv\"\n",
    "df1 = pd.read_csv(path1)\n",
    "df1 = df1.drop('Unnamed: 0', axis=1)\n",
    "df1 = df1.set_index('participant_id')\n",
    "df1['A1male'] = pd.get_dummies(df1['A1sex'], drop_first=True)\n",
    "\n",
    "\n",
    "path2 = \"/Users/malika/Documents/Five Lives/SI Data Analysis/LifestyleCognition/Datasets & Data cleaning/df2_clean.csv\"\n",
    "df2 = pd.read_csv(path2)\n",
    "df2 = df2.drop('Unnamed: 0', axis=1)\n",
    "df2 = df2.set_index('participant_id')\n",
    "df2['A2male'] = pd.get_dummies(df2['A2sex'], drop_first=True)"
   ]
  },
  {
   "cell_type": "code",
   "execution_count": null,
   "id": "b23a87fd",
   "metadata": {},
   "outputs": [],
   "source": [
    "df0"
   ]
  },
  {
   "cell_type": "code",
   "execution_count": null,
   "id": "69ee3265",
   "metadata": {},
   "outputs": [],
   "source": [
    "# to define the assessment index\n",
    "\n",
    "A0 = 'A0'\n",
    "A1 = 'A1'\n",
    "A2 = 'A2'\n",
    "\n",
    "#Variables only for lifestyle\n",
    "\n",
    "lifestyle = ['PA_duration',\n",
    " 'PA_intensity',\n",
    " 'PA_score',\n",
    " 'smoking_situation',\n",
    " 'smoking_amount',\n",
    " 'socialI',\n",
    " 'loneliness',\n",
    " 'sleep_problems',\n",
    " 'fruit_veg',\n",
    " 'alcohol_unit',\n",
    " 'glasses_water',\n",
    " 'time_reading',\n",
    " 'time_mental_stimulation',\n",
    " 'time_instrument',\n",
    " 'time_skill',\n",
    " 'relaxed_scale',\n",
    " 'mood_rate',\n",
    " 'enjoyment_activities']\n",
    "\n"
   ]
  },
  {
   "cell_type": "code",
   "execution_count": null,
   "id": "3501e0da",
   "metadata": {},
   "outputs": [],
   "source": [
    "lifestyleA0 = []\n",
    "for i in lifestyle:\n",
    "    lifestyleA0.append(A0 + i)\n",
    "    \n",
    "lifestyleA1 = []\n",
    "for i in lifestyle:\n",
    "    lifestyleA1.append(A1 + i)\n",
    "\n",
    "lifestyleA2 = []\n",
    "for i in lifestyle:\n",
    "    lifestyleA2.append(A2 + i)"
   ]
  },
  {
   "cell_type": "code",
   "execution_count": null,
   "id": "f5b8ce5d",
   "metadata": {},
   "outputs": [],
   "source": [
    "##Joins dataset into a bigger dfL dataset \n",
    "dfL2 = df2[lifestyleA2]\n",
    "dfL1 = df1[lifestyleA1]\n",
    "dfL0 = df0[lifestyleA0]\n",
    "dfL = dfL0.join(dfL1)\n",
    "dfL = dfL.join(dfL2)"
   ]
  },
  {
   "cell_type": "markdown",
   "id": "9e01444f",
   "metadata": {},
   "source": [
    "## Plots"
   ]
  },
  {
   "cell_type": "markdown",
   "id": "d74aff59",
   "metadata": {},
   "source": [
    "'PA_duration',\n",
    " 'PA_intensity',\n",
    " 'PA_score',\n",
    " 'smoking_situation',\n",
    " 'smoking_amount',\n",
    " 'socialI',\n",
    " 'loneliness',\n",
    " 'sleep_problems',\n",
    " 'fruit_veg',\n",
    " 'alcohol_unit',\n",
    " 'glasses_water',\n",
    " 'time_reading',\n",
    " 'time_mental_stimulation',\n",
    " 'time_instrument',\n",
    " 'time_skill',\n",
    " 'relaxed_scale',\n",
    " 'mood_rate',\n",
    " 'enjoyment_activities'"
   ]
  },
  {
   "cell_type": "code",
   "execution_count": null,
   "id": "2d58455d",
   "metadata": {},
   "outputs": [],
   "source": [
    "title = 'enjoyment_activities'\n",
    "var = 'enjoyment_activities'\n",
    "var0 = A0 + var\n",
    "var1 = A1 + var\n",
    "var2 = A2 + var"
   ]
  },
  {
   "cell_type": "code",
   "execution_count": null,
   "id": "895102bb",
   "metadata": {},
   "outputs": [],
   "source": [
    "df = dfL[[var0, var1, var2]]"
   ]
  },
  {
   "cell_type": "code",
   "execution_count": null,
   "id": "9dcc1770",
   "metadata": {},
   "outputs": [],
   "source": [
    "df.describe()"
   ]
  },
  {
   "cell_type": "code",
   "execution_count": null,
   "id": "335a2005",
   "metadata": {},
   "outputs": [],
   "source": [
    "df.median()"
   ]
  },
  {
   "cell_type": "code",
   "execution_count": null,
   "id": "1fe436b3",
   "metadata": {},
   "outputs": [],
   "source": [
    "df = df.dropna(axis=0)"
   ]
  },
  {
   "cell_type": "code",
   "execution_count": null,
   "id": "c66665bc",
   "metadata": {},
   "outputs": [],
   "source": [
    "df.describe()"
   ]
  },
  {
   "cell_type": "code",
   "execution_count": null,
   "id": "a4f950af",
   "metadata": {},
   "outputs": [],
   "source": [
    "df.median(), df.mean()"
   ]
  },
  {
   "cell_type": "code",
   "execution_count": null,
   "id": "d1a0e9a5",
   "metadata": {},
   "outputs": [],
   "source": [
    "# ACC plot\n",
    "fig, axes = plt.subplots(1, 3, figsize=(15, 5), sharey=True)\n",
    "fig.suptitle(title)\n",
    "\n",
    "sns.histplot(ax=axes[0], data=df, x=var0, color=\"#e9bbb5\", label=\"A0\", binwidth = 0.8, binrange= [1,3])\n",
    "axes[0].set_title('First assessment')\n",
    "\n",
    "sns.histplot(ax=axes[1], data=df, x=var1, color=\"#e7cba9\", label=\"A1\",binwidth = 0.8,binrange= [1,3])\n",
    "axes[1].set_title('Second assessment')\n",
    "\n",
    "sns.histplot(ax=axes[2], data=df, x=var2, color=\"#aad9cd\", label=\"A2\",binwidth = 0.8,binrange= [1,3])\n",
    "axes[2].set_title('Third assessment')\n",
    "\n",
    "\n",
    "plt.show()\n",
    "\n",
    "# to save this figure for all criteria\n"
   ]
  },
  {
   "cell_type": "code",
   "execution_count": null,
   "id": "e9f35d39",
   "metadata": {},
   "outputs": [],
   "source": []
  },
  {
   "cell_type": "code",
   "execution_count": null,
   "id": "58758b25",
   "metadata": {},
   "outputs": [],
   "source": [
    "# ACC plot\n",
    "fig, axes = plt.subplots(1, 3, figsize=(15, 5), sharey=True)\n",
    "fig.suptitle(title)\n",
    "\n",
    "sns.boxplot(ax=axes[0], data=df, x=var0, color=\"#e9bbb5\", label=\"A0\", binwidth = 0.8, binrange= [1,3])\n",
    "axes[0].set_title('First assessment')\n",
    "\n",
    "sns.boxplot(ax=axes[1], data=df, x=var1, color=\"#e7cba9\", label=\"A1\",binwidth = 0.8,binrange= [1,3])\n",
    "axes[1].set_title('Second assessment')\n",
    "\n",
    "sns.boxplot(ax=axes[2], data=df, x=var2, color=\"#aad9cd\", label=\"A2\",binwidth = 0.8,binrange= [1,3])\n",
    "axes[2].set_title('Third assessment')\n",
    "\n",
    "\n",
    "plt.show()"
   ]
  },
  {
   "cell_type": "code",
   "execution_count": null,
   "id": "e211db51",
   "metadata": {},
   "outputs": [],
   "source": [
    "### Pearsons correlation\n",
    "df[[var0, var1, var2]].corr()"
   ]
  },
  {
   "cell_type": "code",
   "execution_count": null,
   "id": "e2d33bd9",
   "metadata": {},
   "outputs": [],
   "source": [
    "data=pd.melt(df)"
   ]
  },
  {
   "cell_type": "code",
   "execution_count": null,
   "id": "51a46b55",
   "metadata": {},
   "outputs": [],
   "source": [
    "data"
   ]
  },
  {
   "cell_type": "code",
   "execution_count": null,
   "id": "cfbd70d6",
   "metadata": {},
   "outputs": [],
   "source": [
    "data['value'].unique()"
   ]
  },
  {
   "cell_type": "code",
   "execution_count": null,
   "id": "34c258fb",
   "metadata": {},
   "outputs": [],
   "source": [
    "color_list = [\"#e9bbb5\", \"#e7cba9\", \"#aad9cd\"]\n",
    "sns.catplot(data = data, x = 'value', hue = 'variable', kind = 'count', color = \"#aad9cd\")\n",
    "plt.title(title)\n"
   ]
  },
  {
   "cell_type": "code",
   "execution_count": null,
   "id": "13a51860",
   "metadata": {},
   "outputs": [],
   "source": [
    "sns.boxplot(df, )"
   ]
  },
  {
   "cell_type": "code",
   "execution_count": null,
   "id": "5b94267d",
   "metadata": {},
   "outputs": [],
   "source": [
    "color_list = [\"#e9bbb5\", \"#e7cba9\", \"#aad9cd\"]\n",
    "\n",
    "sns.catplot(data=data, x= 'variable', y = 'value', linewidth=3, width=0.7, kind = 'box', color = '#aad9cd')\n",
    "plt.title(title)"
   ]
  },
  {
   "cell_type": "code",
   "execution_count": null,
   "id": "f8d1fa64",
   "metadata": {},
   "outputs": [],
   "source": []
  }
 ],
 "metadata": {
  "kernelspec": {
   "display_name": "Python 3 (ipykernel)",
   "language": "python",
   "name": "python3"
  },
  "language_info": {
   "codemirror_mode": {
    "name": "ipython",
    "version": 3
   },
   "file_extension": ".py",
   "mimetype": "text/x-python",
   "name": "python",
   "nbconvert_exporter": "python",
   "pygments_lexer": "ipython3",
   "version": "3.8.2"
  }
 },
 "nbformat": 4,
 "nbformat_minor": 5
}
