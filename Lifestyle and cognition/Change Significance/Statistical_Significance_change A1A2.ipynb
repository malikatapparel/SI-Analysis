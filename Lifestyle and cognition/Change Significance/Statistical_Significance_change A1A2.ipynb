{
 "cells": [
  {
   "cell_type": "code",
   "execution_count": null,
   "id": "47b42784",
   "metadata": {},
   "outputs": [],
   "source": [
    "import pandas as pd\n",
    "import numpy as np\n",
    "from scipy import stats\n",
    "from pandas_profiling import ProfileReport\n",
    "import matplotlib.pyplot as plt\n",
    "import seaborn as sns\n",
    "from statsmodels.regression.linear_model import OLS\n",
    "import statsmodels.api as sm\n",
    "\n",
    "\n",
    "#To define the datasets to be substracted from one another\n",
    "path0 = \"/Users/malika/Documents/Five Lives/SI Data Analysis/LifestyleCognition/Datasets & Data cleaning/df0_clean.csv\"\n",
    "df0 = pd.read_csv(path0)\n",
    "df0 = df0.drop('Unnamed: 0', axis=1)\n",
    "df0 = df0.set_index('participant_id')\n",
    "df0['A0male'] = pd.get_dummies(df0['A0sex'], drop_first=True)\n",
    "\n",
    "path1 = \"/Users/malika/Documents/Five Lives/SI Data Analysis/LifestyleCognition/Datasets & Data cleaning/df1_clean.csv\"\n",
    "df1 = pd.read_csv(path1)\n",
    "df1 = df1.drop('Unnamed: 0', axis=1)\n",
    "df1 = df1.set_index('participant_id')\n",
    "df1['A1male'] = pd.get_dummies(df1['A1sex'], drop_first=True)\n",
    "\n",
    "\n",
    "path2 = \"/Users/malika/Documents/Five Lives/SI Data Analysis/LifestyleCognition/Datasets & Data cleaning/df2_clean.csv\"\n",
    "df2 = pd.read_csv(path2)\n",
    "df2 = df2.drop('Unnamed: 0', axis=1)\n",
    "df2 = df2.set_index('participant_id')\n",
    "df2['A2male'] = pd.get_dummies(df2['A2sex'], drop_first=True)"
   ]
  },
  {
   "cell_type": "code",
   "execution_count": null,
   "id": "b23a87fd",
   "metadata": {},
   "outputs": [],
   "source": [
    "df0"
   ]
  },
  {
   "cell_type": "code",
   "execution_count": null,
   "id": "69ee3265",
   "metadata": {},
   "outputs": [],
   "source": [
    "# to define the assessment index\n",
    "\n",
    "A0 = 'A0'\n",
    "A1 = 'A1'\n",
    "A2 = 'A2'\n",
    "\n",
    "#Variables only for lifestyle\n",
    "\n",
    "lifestyle = ['PA_duration',\n",
    " 'PA_intensity',\n",
    " 'PA_score',\n",
    " 'smoking_situation',\n",
    " 'smoking_amount',\n",
    " 'socialI',\n",
    " 'loneliness',\n",
    " 'sleep_problems',\n",
    " 'fruit_veg',\n",
    " 'alcohol_unit',\n",
    " 'glasses_water',\n",
    " 'time_reading',\n",
    " 'time_mental_stimulation',\n",
    " 'time_instrument',\n",
    " 'time_skill',\n",
    " 'relaxed_scale',\n",
    " 'mood_rate',\n",
    " 'enjoyment_activities']\n",
    "\n"
   ]
  },
  {
   "cell_type": "code",
   "execution_count": null,
   "id": "3501e0da",
   "metadata": {},
   "outputs": [],
   "source": [
    "lifestyleA0 = []\n",
    "for i in lifestyle:\n",
    "    lifestyleA0.append(A0 + i)\n",
    "    \n",
    "lifestyleA1 = []\n",
    "for i in lifestyle:\n",
    "    lifestyleA1.append(A1 + i)\n",
    "\n",
    "lifestyleA2 = []\n",
    "for i in lifestyle:\n",
    "    lifestyleA2.append(A2 + i)"
   ]
  },
  {
   "cell_type": "code",
   "execution_count": null,
   "id": "f5b8ce5d",
   "metadata": {},
   "outputs": [],
   "source": [
    "##Joins dataset into a bigger dfL dataset \n",
    "dfL2 = df2[lifestyleA2]\n",
    "dfL1 = df1[lifestyleA1]\n",
    "dfL12 = dfL1.join(dfL2)"
   ]
  },
  {
   "cell_type": "code",
   "execution_count": null,
   "id": "c128de1d",
   "metadata": {},
   "outputs": [],
   "source": [
    "dfL12"
   ]
  },
  {
   "cell_type": "code",
   "execution_count": null,
   "id": "32c95e8f",
   "metadata": {},
   "outputs": [],
   "source": [
    "results = []\n",
    "for var in lifestyle:\n",
    "    var0 = A1 + var\n",
    "    var2 = A2 + var\n",
    "    results.append(var0 + var2 + ' Results')\n",
    "    df = dfL12[[var0, var2]]\n",
    "    df = df.dropna(axis=0)\n",
    "\n",
    "    # Shapiro-Wilk test for normality\n",
    "    #A0\n",
    "    statistic, pvalue = stats.shapiro(df[var0])\n",
    "    if pvalue >= 0.05:\n",
    "        results.append('Not normally distributed')\n",
    "    elif pvalue < 0.05:\n",
    "        results.append('Normally distributed')\n",
    "\n",
    "    # Shapiro-Wilk test for normality\n",
    "    statistic, pvalue = stats.shapiro(df[var2])\n",
    "    if pvalue >= 0.05:\n",
    "        results.append('Not normally distributed')\n",
    "    elif pvalue < 0.05:\n",
    "        results.append('Normally distributed')\n",
    "\n",
    "\n",
    "    # T test\n",
    "    t_value, p_value = stats.ttest_rel(df[var0], df[var2])\n",
    "    two_tailed_p_value=float(\"{:.6f}\".format(p_value)) \n",
    "\n",
    "    results.append('Test statistic is %f'%float(\"{:.6f}\".format(t_value)))\n",
    "\n",
    "    results.append('p-value for two_tailed_test is %f'%two_tailed_p_value)\n",
    "\n",
    "    alpha = 0.05\n",
    "\n",
    "    if two_tailed_p_value<=alpha:\n",
    "\n",
    "        results.append('significant difference')\n",
    "\n",
    "    else:\n",
    "\n",
    "        results.append('Non-significant difference')\n",
    "\n",
    "    results.append('-----------')"
   ]
  },
  {
   "cell_type": "code",
   "execution_count": null,
   "id": "1f7f5c67",
   "metadata": {},
   "outputs": [],
   "source": [
    "results"
   ]
  },
  {
   "cell_type": "code",
   "execution_count": null,
   "id": "7f7c63a3",
   "metadata": {},
   "outputs": [],
   "source": []
  },
  {
   "cell_type": "markdown",
   "id": "9e01444f",
   "metadata": {},
   "source": [
    "## PA duration\n",
    "### Pearson's correlation coefficient\n",
    "\n",
    "### T-test\n",
    "- test normality\n",
    "- t test"
   ]
  },
  {
   "cell_type": "code",
   "execution_count": null,
   "id": "2d58455d",
   "metadata": {},
   "outputs": [],
   "source": [
    "var = 'socialI'\n",
    "var0 = A0 + var\n",
    "var2 = A2 + var"
   ]
  },
  {
   "cell_type": "code",
   "execution_count": null,
   "id": "895102bb",
   "metadata": {},
   "outputs": [],
   "source": [
    "df = dfL02[[var0, var2]]"
   ]
  },
  {
   "cell_type": "code",
   "execution_count": null,
   "id": "9dcc1770",
   "metadata": {},
   "outputs": [],
   "source": [
    "df.describe()"
   ]
  },
  {
   "cell_type": "code",
   "execution_count": null,
   "id": "335a2005",
   "metadata": {},
   "outputs": [],
   "source": [
    "df[var2]"
   ]
  },
  {
   "cell_type": "code",
   "execution_count": null,
   "id": "1fe436b3",
   "metadata": {},
   "outputs": [],
   "source": [
    "df = df.dropna(axis=0)"
   ]
  },
  {
   "cell_type": "code",
   "execution_count": null,
   "id": "c66665bc",
   "metadata": {},
   "outputs": [],
   "source": [
    "df.describe()"
   ]
  },
  {
   "cell_type": "code",
   "execution_count": null,
   "id": "d1a0e9a5",
   "metadata": {},
   "outputs": [],
   "source": [
    "# ACC plot\n",
    "plt.figure(figsize=(6,8))\n",
    "plt.title(var + \" difference A0 A2\")\n",
    "\n",
    "sns.histplot(data=df, x=var0, color=\"purple\", label=\"A0\", binwidth = 0.8, binrange= [1,3])\n",
    "sns.histplot(data=df, x=var2, color=\"skyblue\", label=\"A2\",binwidth = 0.8,binrange= [1,3])\n",
    "\n",
    "plt.legend(title = \"Duration\") \n",
    "plt.show()\n",
    "\n",
    "# to save this figure for all criteria\n"
   ]
  },
  {
   "cell_type": "code",
   "execution_count": null,
   "id": "e211db51",
   "metadata": {},
   "outputs": [],
   "source": [
    "### Pearsons correlation\n",
    "df[[var0, var2]].corr()"
   ]
  },
  {
   "cell_type": "code",
   "execution_count": null,
   "id": "3938a571",
   "metadata": {},
   "outputs": [],
   "source": [
    "sns.lmplot(x=var0, y=var2, data=df);\n",
    "from scipy import stats"
   ]
  },
  {
   "cell_type": "code",
   "execution_count": null,
   "id": "3c53a3e6",
   "metadata": {},
   "outputs": [],
   "source": [
    "# Shapiro-Wilk test for normality\n",
    "#A0\n",
    "statistic, pvalue = stats.shapiro(df[var0])\n",
    "if pvalue >= 0.05:\n",
    "    print('Not normally distributed')\n",
    "elif pvalue < 0.05:\n",
    "    print('Normally distributed')\n"
   ]
  },
  {
   "cell_type": "code",
   "execution_count": null,
   "id": "b33b94d5",
   "metadata": {},
   "outputs": [],
   "source": [
    "# Shapiro-Wilk test for normality\n",
    "statistic, pvalue = stats.shapiro(df[var2])\n",
    "if pvalue >= 0.05:\n",
    "    print('Not normally distributed')\n",
    "elif pvalue < 0.05:\n",
    "    print('Normally distributed')"
   ]
  },
  {
   "cell_type": "code",
   "execution_count": null,
   "id": "fe5aeaf8",
   "metadata": {},
   "outputs": [],
   "source": [
    "# T test\n",
    "t_value, p_value = stats.ttest_rel(df[var0], df[var2])\n",
    "two_tailed_p_value=float(\"{:.6f}\".format(p_value)) \n",
    "\n",
    "print('Test statistic is %f'%float(\"{:.6f}\".format(t_value)))\n",
    "\n",
    "print('p-value for two_tailed_test is %f'%two_tailed_p_value)\n",
    "\n",
    "alpha = 0.05\n",
    "\n",
    "if two_tailed_p_value<=alpha:\n",
    "\n",
    "    print('Conclusion','n','Since p-value(=%f)'%two_tailed_p_value,'<','alpha(=%.2f)'%alpha,'''We reject the null hypothesis H0. \n",
    "\n",
    "There is a significant difference between both tests''')\n",
    "\n",
    "else:\n",
    "\n",
    "    print('Conclusion','n','Since p-value(=%f)'%two_tailed_p_value,'>','alpha(=%.2f)'%alpha,'''We do not reject the null hypothesis H0. \n",
    "\n",
    "There is no significant difference between both tests''')"
   ]
  },
  {
   "cell_type": "code",
   "execution_count": null,
   "id": "7aff5744",
   "metadata": {},
   "outputs": [],
   "source": [
    "color_list = ['purple', 'skyblue']\n",
    "sns.set(rc={'figure.figsize':(3,5)})\n",
    "sns.violinplot(data=df[[var0, var2]], orient=\"v\", linewidth=1, width=0.9, palette = color_list)\n"
   ]
  },
  {
   "cell_type": "code",
   "execution_count": null,
   "id": "5b94267d",
   "metadata": {},
   "outputs": [],
   "source": [
    "color_list = ['pink', 'skyblue']\n",
    "sns.catplot(data=df[[var0, var2]], orient=\"v\", linewidth=3, width=0.7, palette = color_list, kind = 'violin')\n"
   ]
  },
  {
   "cell_type": "code",
   "execution_count": null,
   "id": "22d1badf",
   "metadata": {},
   "outputs": [],
   "source": [
    "sns.boxplot(data=df[[var0, var2]], orient=\"h\")"
   ]
  },
  {
   "cell_type": "code",
   "execution_count": null,
   "id": "f8d1fa64",
   "metadata": {},
   "outputs": [],
   "source": []
  }
 ],
 "metadata": {
  "kernelspec": {
   "display_name": "Python 3 (ipykernel)",
   "language": "python",
   "name": "python3"
  },
  "language_info": {
   "codemirror_mode": {
    "name": "ipython",
    "version": 3
   },
   "file_extension": ".py",
   "mimetype": "text/x-python",
   "name": "python",
   "nbconvert_exporter": "python",
   "pygments_lexer": "ipython3",
   "version": "3.8.2"
  }
 },
 "nbformat": 4,
 "nbformat_minor": 5
}
