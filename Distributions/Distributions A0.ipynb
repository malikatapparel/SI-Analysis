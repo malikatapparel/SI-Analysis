{
 "cells": [
  {
   "cell_type": "code",
   "execution_count": null,
   "id": "bed03a07",
   "metadata": {},
   "outputs": [],
   "source": [
    "import pandas as pd\n",
    "import numpy as np\n",
    "from scipy import stats\n",
    "from pandas_profiling import ProfileReport\n",
    "import matplotlib.pyplot as plt\n",
    "import seaborn as sns\n",
    "from statsmodels.regression.linear_model import OLS\n",
    "import statsmodels.api as sm\n",
    "\n",
    "\n",
    "#To define the datasets to be substracted from one another\n",
    "path0 = \"/Users/malika/Documents/Five Lives/SI Data Analysis/LifestyleCognition/Datasets & Data cleaning/df0_clean.csv\"\n",
    "df0 = pd.read_csv(path0)\n",
    "df0 = df0.drop('Unnamed: 0', axis=1)\n",
    "df0 = df0.set_index('participant_id')\n",
    "#df0['A0male'] = pd.get_dummies(df0['A0sex'], drop_first=True)"
   ]
  },
  {
   "cell_type": "markdown",
   "id": "306a6b23",
   "metadata": {},
   "source": [
    "This code will generate all distributions for the SI data.\n",
    "\n",
    "The codes are subdivided according to the data type.\n",
    "\n",
    "To get the figures, copy paste the figures in each i loop and paste it to a google doc (I found that saving the figure to a folder using spyder was doing some weird placement of text so I preferred to use a notebook)"
   ]
  },
  {
   "cell_type": "code",
   "execution_count": null,
   "id": "3cf20ffd",
   "metadata": {},
   "outputs": [],
   "source": [
    "df0"
   ]
  },
  {
   "cell_type": "markdown",
   "id": "4754dd80",
   "metadata": {},
   "source": [
    "## Add variables"
   ]
  },
  {
   "cell_type": "markdown",
   "id": "83f53521",
   "metadata": {},
   "source": [
    "Modification/ Addition of variables needed "
   ]
  },
  {
   "cell_type": "code",
   "execution_count": null,
   "id": "2dad6b37",
   "metadata": {},
   "outputs": [],
   "source": [
    "#Add BMI\n",
    "df0['A0bmi'] = (df0['A0weight_kg']/((df0['A0height_cm']/100)**2))"
   ]
  },
  {
   "cell_type": "code",
   "execution_count": null,
   "id": "0b132deb",
   "metadata": {},
   "outputs": [],
   "source": []
  },
  {
   "cell_type": "code",
   "execution_count": null,
   "id": "70831db2",
   "metadata": {},
   "outputs": [],
   "source": [
    "df0.info()"
   ]
  },
  {
   "cell_type": "markdown",
   "id": "2ba7420b",
   "metadata": {},
   "source": [
    "We see here there are 4 categories, after looking in more details, I also found some strings, and floats. "
   ]
  },
  {
   "cell_type": "code",
   "execution_count": null,
   "id": "d54e2ab1",
   "metadata": {},
   "outputs": [],
   "source": [
    "# Create separate list for separate categories\n",
    "float64 = []\n",
    "int64 = []\n",
    "uint8 = []\n",
    "error = []\n",
    "string = []\n",
    "float_list = []\n",
    "for i in df0.columns:\n",
    "    if df0[i][0] == np.nan:\n",
    "        error.append(i)\n",
    "    elif type(df0[i][0]) == np.float64:\n",
    "        float64.append(i)\n",
    "    elif type(df0[i][0]) == np.int64:\n",
    "        int64.append(i)\n",
    "    elif type(df0[i][0]) == np.uint8:\n",
    "        uint8.append(i)\n",
    "    elif type(df0[i][0]) == str:\n",
    "        string.append(i)\n",
    "    elif type(df0[i][0]) == float:\n",
    "        float_list.append(i)\n",
    "    else:\n",
    "        error.append(i)"
   ]
  },
  {
   "cell_type": "code",
   "execution_count": null,
   "id": "0cd5d4ff",
   "metadata": {},
   "outputs": [],
   "source": [
    "#Do we have all variables in our lists?\n",
    "len(float64) + len(int64) + len(uint8) + len(error) + len(string) + len(float_list) == len(df0.columns)"
   ]
  },
  {
   "cell_type": "markdown",
   "id": "d85ce477",
   "metadata": {},
   "source": [
    "## Categories corrections\n",
    "Some categories were wrongfully attributed (I realized while running the distributions)\n"
   ]
  },
  {
   "cell_type": "code",
   "execution_count": null,
   "id": "78071200",
   "metadata": {},
   "outputs": [],
   "source": [
    "float_list"
   ]
  },
  {
   "cell_type": "code",
   "execution_count": null,
   "id": "bd3d29d9",
   "metadata": {},
   "outputs": [],
   "source": [
    "df0['A0current_highest_occupation_level']"
   ]
  },
  {
   "cell_type": "code",
   "execution_count": null,
   "id": "53ccc867",
   "metadata": {},
   "outputs": [],
   "source": [
    "# seen as a float because value [0] was NaN but is actually a string\n",
    "string.append('A0current_highest_occupation_level')"
   ]
  },
  {
   "cell_type": "markdown",
   "id": "fe173bb3",
   "metadata": {},
   "source": [
    "Some variables were seen as floats but are actually True/False"
   ]
  },
  {
   "cell_type": "code",
   "execution_count": null,
   "id": "0398ac5a",
   "metadata": {},
   "outputs": [],
   "source": [
    "TrueFalse = ['A0relative_dementia', 'A0diagnosis_diabetes', 'A0stroke', 'A0mini_stroke',  'A0b12',\n",
    " 'A0thyroid_disease',\n",
    " 'A0renal_problem',\n",
    " 'A0alcohol_disorder',\n",
    " 'A0hearing_problems',\n",
    " 'A0visual_problems',\n",
    " 'A0colour_blind',\n",
    " 'A0parkinsons',\n",
    " 'A0epilepsy',\n",
    " 'A0multiple_sclerosis',\n",
    " 'A0migraines',\n",
    " 'A0diagnosis_neurological_diseases_other',\n",
    " 'A0head_injury',\n",
    " 'A0loss_of_consciousness',\n",
    " 'A0bowel_disease_IBS',\n",
    " 'A0diagnosis_dementia',\n",
    " 'A0diagnosis_mci',\n",
    " 'A0today_date',\n",
    "'A0work_shifts',\n",
    "'A0relative_dementia_65',\n",
    "'A0diabetes_medication',\n",
    " 'A0insulin',\n",
    "'A0b12_replacement',\n",
    " 'A0thyroxine_replacement',\n",
    " 'A0dialysis',\n",
    " 'A0hearing_problems_treated',\n",
    " 'A0visual_problems_treated',\n",
    " 'A0personality_disorder',\n",
    " 'A0psychiatric_diagnosis_other',\n",
    " 'A0dyslexia',\n",
    " 'A0lipid_lowering_medications',\n",
    " 'A0anti_inflammatory_medications',\n",
    " 'A0anti_hypertensives_medications',\n",
    " 'A0antidepressants',\n",
    " 'A0anxiolytic',\n",
    " 'A0antiparkinson_medications',\n",
    " 'A0glucose_medications',\n",
    " 'A0regular_medications_other',\n",
    " 'A0moving_during_sleep',\n",
    " 'A0insomnia',\n",
    " 'A0sleep_apnea',\n",
    " 'A0sleep_issue_other'] "
   ]
  },
  {
   "cell_type": "code",
   "execution_count": null,
   "id": "d4869616",
   "metadata": {},
   "outputs": [],
   "source": [
    "string"
   ]
  },
  {
   "cell_type": "code",
   "execution_count": null,
   "id": "f0b6aab3",
   "metadata": {},
   "outputs": [],
   "source": [
    "# remove TrueFalse variables from the float64 and int64 lists\n",
    "for i in TrueFalse:\n",
    "    if i in int64:\n",
    "        int64.remove(i)\n",
    "    elif i in float64:\n",
    "        float64.remove(i)"
   ]
  },
  {
   "cell_type": "code",
   "execution_count": null,
   "id": "9d1160c4",
   "metadata": {},
   "outputs": [],
   "source": [
    "float64"
   ]
  },
  {
   "cell_type": "code",
   "execution_count": null,
   "id": "311dc8de",
   "metadata": {},
   "outputs": [],
   "source": [
    "#Last check: Do we have all variables in our lists?\n",
    "len(float64) + len(int64) + len(uint8) + len(error) + len(string) + len(TrueFalse) == len(df0.columns)"
   ]
  },
  {
   "cell_type": "code",
   "execution_count": null,
   "id": "93f0866b",
   "metadata": {},
   "outputs": [],
   "source": [
    "print(f' Number of variables for: \\n float64: {len(float64)} \\n int64: {len(int64)} \\n uint8: {len(uint8)} \\n error: {len(error)} \\n string: {len(string)} \\n TrueFalse: {len(TrueFalse)} \\n Sum of all variables categorized: {len(float64) + len(int64) + len(uint8) + len(error) + len(string) + len(TrueFalse)} \\n Sum of all columns in dataset: {len(df0.columns)}')\n"
   ]
  },
  {
   "cell_type": "code",
   "execution_count": null,
   "id": "ac3c3672",
   "metadata": {},
   "outputs": [],
   "source": [
    "# No need to use uint8 because there is only the gender which is already in the string list\n",
    "uint8"
   ]
  },
  {
   "cell_type": "code",
   "execution_count": null,
   "id": "34118603",
   "metadata": {},
   "outputs": [],
   "source": [
    "# No error\n",
    "error"
   ]
  },
  {
   "cell_type": "markdown",
   "id": "b2c64812",
   "metadata": {},
   "source": [
    "Our final categories are: float64, int64, string and TrueFalse"
   ]
  },
  {
   "cell_type": "markdown",
   "id": "72c50446",
   "metadata": {},
   "source": [
    "# 1. int64 plots\n",
    "Let's start to plot integer (int64)"
   ]
  },
  {
   "cell_type": "code",
   "execution_count": null,
   "id": "0d42d6f5",
   "metadata": {},
   "outputs": [],
   "source": [
    "# When running distribution, we see that time to answer has extreme values\n",
    "df = df0[df0['A0timeToAnswerMs'] < 90000]\n",
    "#df=df0"
   ]
  },
  {
   "cell_type": "code",
   "execution_count": null,
   "id": "c3ab5078",
   "metadata": {},
   "outputs": [],
   "source": [
    "int64"
   ]
  },
  {
   "cell_type": "code",
   "execution_count": null,
   "id": "b1273519",
   "metadata": {},
   "outputs": [],
   "source": [
    "df['A0Ass_all'].unique()"
   ]
  },
  {
   "cell_type": "code",
   "execution_count": null,
   "id": "21a62173",
   "metadata": {},
   "outputs": [],
   "source": []
  },
  {
   "cell_type": "code",
   "execution_count": null,
   "id": "bc838daa",
   "metadata": {},
   "outputs": [],
   "source": [
    "## List with names of variables\n",
    "\n",
    "int64_names = ['Version of the assessment',\n",
    " 'Height (cm)',\n",
    " 'Weight (kg)',\n",
    " 'Time to answer (ms)',\n",
    " 'Need for assistance',\n",
    " 'Feeling of loneliness',\n",
    " 'Sum of sleep problems',\n",
    " 'Number of units of alcohol total']"
   ]
  },
  {
   "cell_type": "code",
   "execution_count": null,
   "id": "b7cef8b0",
   "metadata": {},
   "outputs": [],
   "source": [
    "if len(int64) == len(int64_names):\n",
    "    int64_all = list(zip(int64, int64_names))"
   ]
  },
  {
   "cell_type": "code",
   "execution_count": null,
   "id": "ca48fc87",
   "metadata": {},
   "outputs": [],
   "source": [
    "int64_all"
   ]
  },
  {
   "cell_type": "code",
   "execution_count": null,
   "id": "ba671acd",
   "metadata": {
    "scrolled": false
   },
   "outputs": [],
   "source": [
    "for i in int64_all:\n",
    "    #Set mean, median and std\n",
    "    var = i[0]\n",
    "    title = i[1]\n",
    "    median = str(df[var].median())\n",
    "    mean = \"%.2f\" % df[var].mean() \n",
    "    std = \"%.2f\" % df[var].std()\n",
    "    \n",
    "    plt.figure(figsize=(3.2, 4.2))\n",
    "    ax = sns.histplot(data = df, x = var, color = \"#a4a4a4ff\")\n",
    "    plt.plot([], [], ' ', label = f'n= {df[var].count()}')\n",
    "    plt.axvline(df[var].median(), linestyle='dashed', linewidth=2, color = '#efbf45', label = f'Median= {median}')\n",
    "    plt.axvline(df[var].mean(), linestyle='dashed', linewidth=2, color = '#8e74da', label = f'Mean= {mean}')\n",
    "    plt.plot([], [], ' ', label = f'Standard Deviation= {std}')\n",
    "    plt.legend(loc='upper center', bbox_to_anchor=(1.65, 1.02), shadow=False, ncol=1)\n",
    "    plt.title(title)\n",
    "    plt.xlabel(var)\n",
    "    plt.ylabel('Count')\n",
    "    ax2 = ax.twinx()\n",
    "    ax2.set_ylabel('Density')\n",
    "    ax2.set_ylim(0,1)\n",
    "    plt.show()\n",
    "    "
   ]
  },
  {
   "cell_type": "markdown",
   "id": "651c3303",
   "metadata": {},
   "source": [
    "Make tuples list"
   ]
  },
  {
   "cell_type": "markdown",
   "id": "f082ff78",
   "metadata": {},
   "source": [
    "## 2.  float64\n"
   ]
  },
  {
   "cell_type": "code",
   "execution_count": null,
   "id": "4c41f336",
   "metadata": {},
   "outputs": [],
   "source": [
    "len(float64)"
   ]
  },
  {
   "cell_type": "code",
   "execution_count": null,
   "id": "202a07ae",
   "metadata": {},
   "outputs": [],
   "source": [
    "float64"
   ]
  },
  {
   "cell_type": "code",
   "execution_count": null,
   "id": "91e1e9d8",
   "metadata": {},
   "outputs": [],
   "source": [
    "#Get the titles for the graphs\n",
    "float64_names = ['# of work days a week',\n",
    " '# of work years (if retired)',\n",
    " 'Blood pressure value (mmHg)',\n",
    " 'Resting heart rate (bpm)',\n",
    " 'Blood glucose estimation (mmol/L)',\n",
    " 'Blood glucose exact value (mmol/L)',\n",
    " 'Blood cholesterol (mmol/L)',\n",
    " 'LDL cholesterol (mmol/L)',\n",
    " 'HDL cholesterol (mmol/L)',\n",
    " 'Likelihood of lifestyle improvement (0 to 10)',\n",
    " 'Likelihood to discuss brain health with your doctor (0 to 10)',\n",
    " 'Informant: Participant repeats themself? (0 to 10)',\n",
    " 'Informant: Troubles remembering dates or time (0 to 10)',\n",
    " 'Informant: Needs support to remember a date (0 to 10)',\n",
    " 'Informant: Troubles paying bills or managing finances (0 to 10)',\n",
    " 'Informant: Difficulties finding their way around when out of the house? (0 to 10)',\n",
    " 'Age',\n",
    " '# of years since last worked',\n",
    " 'Sum of all heart problems',\n",
    " 'Sum of all heart treatments',\n",
    " 'Sum of all mental problems',\n",
    " 'Sume of all typing problems',\n",
    " 'Average hours of sleep/night',\n",
    " 'Tiredness during the day',\n",
    " 'Physical activity duration/week',\n",
    " 'Intensity of physical exercise',\n",
    " 'Physical activity score (duration * intensity)',\n",
    " 'Smoking situation (0=never, 1=past, 2=current smoker)',\n",
    " 'Amount smoked',\n",
    " 'Level of social interaction',\n",
    " 'Range of fruit and vegetable',\n",
    " 'Level of water drinked',\n",
    " 'Level of time reading',\n",
    " 'Amount of time spent doing mentally stimulating actiivities',\n",
    " 'Amount of time spent playing an instrument',\n",
    " 'Amount of time spent learning a new skill',\n",
    " 'Level of relaxation',\n",
    " 'Mood scale',\n",
    " 'Level of enjoyment of activities',\n",
    " 'BMI']"
   ]
  },
  {
   "cell_type": "code",
   "execution_count": null,
   "id": "535acaca",
   "metadata": {},
   "outputs": [],
   "source": [
    "if len(float64) == len(float64_names):\n",
    "    float64_all = list(zip(float64, float64_names))\n",
    "else:\n",
    "    print('ERROR: lists not same length')"
   ]
  },
  {
   "cell_type": "code",
   "execution_count": null,
   "id": "51d631a7",
   "metadata": {},
   "outputs": [],
   "source": [
    "float64_all"
   ]
  },
  {
   "cell_type": "code",
   "execution_count": null,
   "id": "7273a56c",
   "metadata": {},
   "outputs": [],
   "source": [
    "for i in float64_all:\n",
    "    #Set mean, median and std\n",
    "    var = i[0]\n",
    "    title = i[1]\n",
    "    median = str(df[var].median())\n",
    "    mean = \"%.2f\" % df[var].mean() \n",
    "    std = \"%.2f\" % df[var].std()\n",
    "    \n",
    "    plt.figure(figsize=(3.2, 4.2))\n",
    "    ax = sns.histplot(data = df, x = var, color = \"#a4a4a4ff\")\n",
    "    plt.plot([], [], ' ', label = f'n= {df[var].count()}')\n",
    "    plt.axvline(df[var].median(), linestyle='dashed', linewidth=2, color = '#efbf45', label = f'Median= {median}')\n",
    "    plt.axvline(df[var].mean(), linestyle='dashed', linewidth=2, color = '#8e74da', label = f'Mean= {mean}')\n",
    "    plt.plot([], [], ' ', label = f'Standard Deviation= {std}')\n",
    "    plt.legend(loc='upper center', bbox_to_anchor=(1.65, 1.02), shadow=False, ncol=1)\n",
    "    plt.title(title)\n",
    "    plt.xlabel(var)\n",
    "    plt.ylabel('Count')\n",
    "    ax2 = ax.twinx()\n",
    "    ax2.set_ylabel('Density')\n",
    "    ax2.set_ylim(0,1)\n",
    "    plt.show()"
   ]
  },
  {
   "cell_type": "code",
   "execution_count": null,
   "id": "060eef54",
   "metadata": {},
   "outputs": [],
   "source": [
    "df['A0hours_sleep']"
   ]
  },
  {
   "cell_type": "markdown",
   "id": "59029341",
   "metadata": {},
   "source": [
    "## 3. TrueFalse"
   ]
  },
  {
   "cell_type": "code",
   "execution_count": null,
   "id": "0cc95cf3",
   "metadata": {},
   "outputs": [],
   "source": [
    "len(TrueFalse)"
   ]
  },
  {
   "cell_type": "code",
   "execution_count": null,
   "id": "0d3dd2b0",
   "metadata": {},
   "outputs": [],
   "source": [
    "TrueFalse"
   ]
  },
  {
   "cell_type": "code",
   "execution_count": null,
   "id": "ebfeead7",
   "metadata": {},
   "outputs": [],
   "source": [
    "# Lets do them in true/false again\n",
    "for i in TrueFalse:\n",
    "    for l in df.index:\n",
    "        if df.loc[l, i] == 0:\n",
    "            df.loc[l, i] = 'False'\n",
    "        elif df.loc[l, i]== 1:\n",
    "            df.loc[l, i] = 'True'            "
   ]
  },
  {
   "cell_type": "code",
   "execution_count": null,
   "id": "48695caf",
   "metadata": {},
   "outputs": [],
   "source": [
    "TrueFalse_names = ['First degree relative diagnosed with dementia?',\n",
    " 'Diagnosed with diabetes',\n",
    " 'Ever had a stroke',\n",
    " 'Ever had a mini stroke',\n",
    " 'B12 deficiency',\n",
    " 'Thyroid disease',\n",
    " 'Renal problem',\n",
    " 'Alcohol disorder',\n",
    " 'Hearing problems',\n",
    " 'Visual problems',\n",
    " 'Color blind',\n",
    " 'Parkinsons',\n",
    " 'Epilepsy',\n",
    " 'Multiple sclerosis',\n",
    " 'Migraines',\n",
    " 'Diagnosis of other neurological diseases',\n",
    " 'Had head injury',\n",
    " 'Had loss of consciousness',\n",
    " 'Have been diagnosed with bowel disease',\n",
    " 'Has had dementia diagnosis',\n",
    " 'Has had MCI diagnosis',\n",
    " 'Knows what is todays date' ,\n",
    " 'Does shift work',\n",
    " 'Relative diagnosed with dementia after 65yo',\n",
    " 'Takes diabetes medication',\n",
    " 'Takes insuline',\n",
    " 'Takes B12 replacement',\n",
    " 'Takes thyroxine replacement',\n",
    " 'Is on dialysis',\n",
    " 'Hearing problems are being treated',\n",
    " 'Visual problems are being treated',\n",
    " 'Has personality disorder',\n",
    " 'Has another psychiatric diagnosis',\n",
    " 'Has dyslexia',\n",
    " 'Takes lipid lowering medications',\n",
    " 'Takes anti-inflammatory medications',\n",
    " 'Takes anti-hypertensives medications',\n",
    " 'Takes antidepressants',\n",
    " 'Takes anxiolytic',\n",
    " 'Takes antiparkinson medications',\n",
    " 'Takes glucose medications',\n",
    " 'Takes other regular medications',\n",
    " 'Does violent movements during sleep',\n",
    " 'Has insomnia',\n",
    " 'Does sleep apnea',\n",
    " 'Has other sleep issue']"
   ]
  },
  {
   "cell_type": "code",
   "execution_count": null,
   "id": "f55ac56d",
   "metadata": {},
   "outputs": [],
   "source": [
    "if len(TrueFalse) == len(TrueFalse_names):\n",
    "    TrueFalse_all = list(zip(TrueFalse, TrueFalse_names))\n",
    "else:\n",
    "    print('ERROR: lists not same length')"
   ]
  },
  {
   "cell_type": "code",
   "execution_count": null,
   "id": "12c36d46",
   "metadata": {},
   "outputs": [],
   "source": [
    "TrueFalse_all"
   ]
  },
  {
   "cell_type": "code",
   "execution_count": null,
   "id": "2ddade2d",
   "metadata": {},
   "outputs": [],
   "source": [
    "df[var].count()"
   ]
  },
  {
   "cell_type": "code",
   "execution_count": null,
   "id": "ff11768c",
   "metadata": {},
   "outputs": [],
   "source": []
  },
  {
   "cell_type": "code",
   "execution_count": null,
   "id": "423c3061",
   "metadata": {},
   "outputs": [],
   "source": []
  },
  {
   "cell_type": "code",
   "execution_count": null,
   "id": "82b0e0bc",
   "metadata": {},
   "outputs": [],
   "source": [
    "err = []\n",
    "palette = ['#efbf45', '#8e74da']\n",
    "for i in TrueFalse_all:\n",
    "    var = i[0]\n",
    "    title = i[1]\n",
    "    # There was an error for dialysis as it has no values, so create the err list to have an action when value count = 0\n",
    "    if df[var].count() == 0:\n",
    "        print(f'No values in {var}')\n",
    "        err.append(var)\n",
    "    else: \n",
    "        plt.figure(figsize=(3.2, 4.2))\n",
    "        ax = sns.countplot(data = df, x = var, palette = palette)\n",
    "        plt.plot([], [], ' ', label = f'n= {df[var].count()}')\n",
    "        plt.legend(loc='upper center', bbox_to_anchor=(1.38, 1.02), shadow=False, ncol=1)\n",
    "        plt.title(title)\n",
    "        plt.xlabel(var)\n",
    "        plt.ylabel('Count')\n",
    "        ax2 = ax.twinx()\n",
    "        ax2.set_ylabel('Density')\n",
    "        ax2.set_ylim(0,1)\n",
    "        plt.show()"
   ]
  },
  {
   "cell_type": "code",
   "execution_count": null,
   "id": "7186cd5d",
   "metadata": {},
   "outputs": [],
   "source": [
    "err"
   ]
  },
  {
   "cell_type": "markdown",
   "id": "6ace06f3",
   "metadata": {},
   "source": [
    "## 4. string"
   ]
  },
  {
   "cell_type": "code",
   "execution_count": null,
   "id": "ad956242",
   "metadata": {},
   "outputs": [],
   "source": [
    "len(string)"
   ]
  },
  {
   "cell_type": "code",
   "execution_count": null,
   "id": "244dd146",
   "metadata": {},
   "outputs": [],
   "source": [
    "string"
   ]
  },
  {
   "cell_type": "code",
   "execution_count": null,
   "id": "c7c47fb7",
   "metadata": {},
   "outputs": [],
   "source": [
    "string_names= ['Sex',\n",
    " 'Education level',\n",
    " 'Work_status',\n",
    " 'if retired: highest occupation level achieved',\n",
    " 'English proficiency',\n",
    " 'Number of languages spoken',\n",
    " 'Area of residence',\n",
    " 'Perceived memory compared to others',\n",
    " 'Perceived memory compared to years ago',\n",
    " 'Need for assistance',\n",
    " 'Blood pressure estimation',\n",
    " 'Resting heart rate estimation',\n",
    " 'Cholesterol medication',\n",
    " 'Cholesterol estimation',\n",
    " 'Diagnosis of neurological diseases',\n",
    " 'Current highest occupation level']"
   ]
  },
  {
   "cell_type": "code",
   "execution_count": null,
   "id": "c61ac204",
   "metadata": {},
   "outputs": [],
   "source": [
    "if len(string) == len(string_names):\n",
    "    string_all = list(zip(string, string_names))\n",
    "else:\n",
    "    print('ERROR: lists not same length')"
   ]
  },
  {
   "cell_type": "code",
   "execution_count": null,
   "id": "1e9ac5bb",
   "metadata": {},
   "outputs": [],
   "source": [
    "string_all"
   ]
  },
  {
   "cell_type": "code",
   "execution_count": null,
   "id": "f5c16d16",
   "metadata": {},
   "outputs": [],
   "source": [
    "err = []\n",
    "palette = ['#8e74da', '#6bc6d0', '#00b594', '#f79898', '#efbf45']\n",
    "for i in string_all:\n",
    "    var = i[0]\n",
    "    title = i[1]\n",
    "    # There was an error for dialysis as it has no values, so create the err list to have an action when value count = 0\n",
    "    if df[var].count() == 0:\n",
    "        print(f'No values in {var}')\n",
    "        err.append(var)\n",
    "    else: \n",
    "        plt.figure(figsize=(5.5, 4.2))\n",
    "        ax = sns.countplot(data = df, x = var, palette = palette)\n",
    "        plt.plot([], [], ' ', label = f'n= {df[var].count()}')\n",
    "        plt.legend(loc='upper center', bbox_to_anchor=(1.38, 1.02), shadow=False, ncol=1)\n",
    "        plt.title(title)\n",
    "        plt.xlabel(var)\n",
    "        plt.ylabel('Count')\n",
    "        ax2 = ax.twinx()\n",
    "        ax2.set_ylabel('Density')\n",
    "        ax2.set_ylim(0,1)\n",
    "        plt.show()"
   ]
  },
  {
   "cell_type": "code",
   "execution_count": null,
   "id": "038f401a",
   "metadata": {},
   "outputs": [],
   "source": [
    "#  We see that some variables do not plot well: to redo 'A0assistance', 'A0diagnosis_neurological_diseases'"
   ]
  },
  {
   "cell_type": "code",
   "execution_count": null,
   "id": "085b53f0",
   "metadata": {},
   "outputs": [],
   "source": [
    "# A0assistance: Need for assistance"
   ]
  },
  {
   "cell_type": "code",
   "execution_count": null,
   "id": "1bf2af28",
   "metadata": {},
   "outputs": [],
   "source": [
    "df['A0assistance'].unique()"
   ]
  },
  {
   "cell_type": "code",
   "execution_count": null,
   "id": "23259e02",
   "metadata": {},
   "outputs": [],
   "source": [
    "# Create new variables for Assistance displaying 3 categories\n",
    "\n",
    "error = []\n",
    "df['A0assistance_cat'] = np.nan\n",
    "# Lets do them in true/false again\n",
    "for l in df.index:\n",
    "    if ',' in  df.loc[l, 'A0assistance']:\n",
    "        df.loc[l, 'A0assistance_cat'] = 'More than one task'\n",
    "    elif ',' not in  df.loc[l, 'A0assistance']:\n",
    "        if df.loc[l, 'A0assistance'] == 'none':\n",
    "            df.loc[l, 'A0assistance_cat'] = 'None'\n",
    "        else:\n",
    "            df.loc[l, 'A0assistance_cat'] = 'One task'\n",
    "    else:\n",
    "        df.loc[l, 'A0assistance_cat'] = np.nan\n",
    "        error.append(l)"
   ]
  },
  {
   "cell_type": "code",
   "execution_count": null,
   "id": "d21bfd57",
   "metadata": {},
   "outputs": [],
   "source": [
    "df['A0assistance_cat'].unique()"
   ]
  },
  {
   "cell_type": "code",
   "execution_count": null,
   "id": "63642f8b",
   "metadata": {},
   "outputs": [],
   "source": [
    "error"
   ]
  },
  {
   "cell_type": "code",
   "execution_count": null,
   "id": "fa171734",
   "metadata": {},
   "outputs": [],
   "source": [
    "palette"
   ]
  },
  {
   "cell_type": "code",
   "execution_count": null,
   "id": "140a651a",
   "metadata": {},
   "outputs": [],
   "source": [
    "palette = ['#8e74da', '#6bc6d0', '#00b594', '#f79898', '#efbf45']\n",
    "plt.figure(figsize=(5.5, 4.2))\n",
    "ax = sns.countplot(data = df, x = 'A0assistance_cat', palette = palette)\n",
    "plt.plot([], [], ' ', label = f'n= {df[var].count()}')\n",
    "plt.legend(loc='upper center', bbox_to_anchor=(1.38, 1.02), shadow=False, ncol=1)\n",
    "plt.title('Need for assistance')\n",
    "plt.xlabel('A0assistance_cat')\n",
    "plt.ylabel('Count')\n",
    "ax2 = ax.twinx()\n",
    "ax2.set_ylabel('Density')\n",
    "ax2.set_ylim(0,1)\n",
    "plt.show()"
   ]
  },
  {
   "cell_type": "code",
   "execution_count": null,
   "id": "d13214e6",
   "metadata": {},
   "outputs": [],
   "source": [
    "# A0diagnosis_neurological_diseases\n",
    "df['A0diagnosis_neurological_diseases'].unique()"
   ]
  },
  {
   "cell_type": "code",
   "execution_count": null,
   "id": "9e3773c1",
   "metadata": {},
   "outputs": [],
   "source": [
    "#same here as before\n",
    "error = []\n",
    "df['A0diagnosis_neurological_diseases_cat'] = np.nan\n",
    "# Lets do them in true/false again\n",
    "for l in df.index:\n",
    "    if ',' in  df.loc[l, 'A0diagnosis_neurological_diseases']:\n",
    "        df.loc[l, 'A0diagnosis_neurological_diseases_cat'] = 'More than one'\n",
    "    elif ',' not in  df.loc[l, 'A0diagnosis_neurological_diseases']:\n",
    "        if df.loc[l, 'A0diagnosis_neurological_diseases'] == 'never':\n",
    "            df.loc[l, 'A0diagnosis_neurological_diseases_cat'] = 'None'\n",
    "        else:\n",
    "            df.loc[l, 'A0diagnosis_neurological_diseases_cat'] = 'One'\n",
    "    else:\n",
    "        df.loc[l, 'A0diagnosis_neurological_diseases_cat'] = np.nan\n",
    "        error.append(l)"
   ]
  },
  {
   "cell_type": "code",
   "execution_count": null,
   "id": "69d00fe0",
   "metadata": {},
   "outputs": [],
   "source": [
    "df['A0diagnosis_neurological_diseases_cat'].unique()"
   ]
  },
  {
   "cell_type": "code",
   "execution_count": null,
   "id": "18208918",
   "metadata": {},
   "outputs": [],
   "source": [
    "plt.figure(figsize=(5.5, 4.2))\n",
    "ax = sns.countplot(data = df, x = 'A0diagnosis_neurological_diseases_cat', palette = palette)\n",
    "plt.plot([], [], ' ', label = f'n= {df[var].count()}')\n",
    "plt.legend(loc='upper center', bbox_to_anchor=(1.38, 1.02), shadow=False, ncol=1)\n",
    "plt.title('Diagnosis neurological diseases')\n",
    "plt.xlabel('A0diagnosis_neurological_diseases_cat')\n",
    "plt.ylabel('Count')\n",
    "ax2 = ax.twinx()\n",
    "ax2.set_ylabel('Density')\n",
    "ax2.set_ylim(0,1)\n",
    "plt.show()"
   ]
  },
  {
   "cell_type": "markdown",
   "id": "61ffed0b",
   "metadata": {},
   "source": [
    "## Socio-demography"
   ]
  },
  {
   "cell_type": "code",
   "execution_count": null,
   "id": "955370e1",
   "metadata": {},
   "outputs": [],
   "source": [
    "list(df0.columns)"
   ]
  },
  {
   "cell_type": "code",
   "execution_count": null,
   "id": "26c7d5bf",
   "metadata": {},
   "outputs": [],
   "source": [
    "dem = df0[['A0height_cm', 'A0weight_kg', 'A0bmi', 'A0_age', 'A0sex']]"
   ]
  },
  {
   "cell_type": "code",
   "execution_count": null,
   "id": "1ff736ba",
   "metadata": {},
   "outputs": [],
   "source": [
    "dem"
   ]
  },
  {
   "cell_type": "code",
   "execution_count": null,
   "id": "79d1610f",
   "metadata": {},
   "outputs": [],
   "source": [
    "dem[dem['A0sex']== 'female']['A0bmi'].median()"
   ]
  },
  {
   "cell_type": "code",
   "execution_count": null,
   "id": "11f4a720",
   "metadata": {},
   "outputs": [],
   "source": [
    "F = float(\"%.2f\" % dem[dem['A0sex']== 'female']['A0bmi'].median())\n",
    "M = float(\"%.2f\" % dem[dem['A0sex']== 'male']['A0bmi'].median())\n",
    "plt.figure(figsize=(3.2, 4.2))\n",
    "ax = sns.histplot(data = dem, x = 'A0bmi', hue= 'A0sex', palette = palette)\n",
    "plt.plot([], [], ' ')\n",
    "plt.axvline(F, linestyle='dashed', color = '#efbf45',  linewidth=2)\n",
    "plt.axvline(M, linestyle='dashed', color ='#8e74da', linewidth=2)\n",
    "#plt.plot([], [], ' ', label = f'Standard Deviation= {std}')\n",
    "plt.legend([f'n= {df[var].count()}', f'Median female= {F}', f'Median male= {M}', 'Male', 'Female'], loc='upper center', bbox_to_anchor=(1.6, 1.02), shadow=False, ncol=1)\n",
    "plt.title('BMI according to sex')\n",
    "plt.xlabel('BMI')\n",
    "plt.ylabel('Count')\n",
    "ax2 = ax.twinx()\n",
    "ax2.set_ylabel('Density')\n",
    "ax2.set_ylim(0,1)\n",
    "plt.show()"
   ]
  },
  {
   "cell_type": "code",
   "execution_count": null,
   "id": "ab88d7a1",
   "metadata": {},
   "outputs": [],
   "source": [
    "## Age"
   ]
  },
  {
   "cell_type": "code",
   "execution_count": null,
   "id": "ce3a6708",
   "metadata": {},
   "outputs": [],
   "source": [
    "len(dem.loc[(dem['A0_age']>=80) & (dem['A0_age']> 80)])\n"
   ]
  },
  {
   "cell_type": "code",
   "execution_count": null,
   "id": "4d0f273d",
   "metadata": {},
   "outputs": [],
   "source": [
    "len(dem.loc[(dem['A0_age']>=80) & (dem['A0_age']> 80)])/len(dem) *100"
   ]
  },
  {
   "cell_type": "code",
   "execution_count": null,
   "id": "69eb4b37",
   "metadata": {},
   "outputs": [],
   "source": [
    "dem[dem['A0_age']<60]"
   ]
  },
  {
   "cell_type": "code",
   "execution_count": null,
   "id": "96d86f04",
   "metadata": {},
   "outputs": [],
   "source": [
    "## BMI"
   ]
  },
  {
   "cell_type": "code",
   "execution_count": null,
   "id": "d627d60c",
   "metadata": {},
   "outputs": [],
   "source": [
    "dem.loc[(dem['A0bmi']<18.5)]"
   ]
  },
  {
   "cell_type": "code",
   "execution_count": null,
   "id": "e2666054",
   "metadata": {},
   "outputs": [],
   "source": [
    "x = len(dem.loc[(dem['A0bmi']>=35)])\n",
    "y = x/len(dem)*100\n",
    "\n",
    "print(x,'\\n','%.1f'%y)"
   ]
  },
  {
   "cell_type": "code",
   "execution_count": null,
   "id": "039863d0",
   "metadata": {},
   "outputs": [],
   "source": [
    " & (dem['A0_age']> 80)"
   ]
  },
  {
   "cell_type": "code",
   "execution_count": null,
   "id": "8cd4e1c3",
   "metadata": {},
   "outputs": [],
   "source": [
    "## Removing height=165"
   ]
  },
  {
   "cell_type": "code",
   "execution_count": null,
   "id": "b2a85066",
   "metadata": {},
   "outputs": [],
   "source": [
    "dem1= dem[(dem['A0height_cm']!= 165) & (dem['A0weight_kg']!= 70)]"
   ]
  },
  {
   "cell_type": "code",
   "execution_count": null,
   "id": "090fcce5",
   "metadata": {},
   "outputs": [],
   "source": [
    "F = float(\"%.2f\" % dem1[dem1['A0sex']== 'female']['A0bmi'].median())\n",
    "M = float(\"%.2f\" % dem1[dem1['A0sex']== 'male']['A0bmi'].median())\n",
    "plt.figure(figsize=(3.2, 4.2))\n",
    "ax = sns.histplot(data = dem1, x = 'A0bmi', hue= 'A0sex', palette = palette)\n",
    "plt.plot([], [], ' ')\n",
    "plt.axvline(F, linestyle='dashed', color = '#efbf45',  linewidth=2)\n",
    "plt.axvline(M, linestyle='dashed', color ='#8e74da', linewidth=2)\n",
    "#plt.plot([], [], ' ', label = f'Standard Deviation= {std}')\n",
    "plt.legend([f'n= {df[var].count()}', f'Median female= {F}', f'Median male= {M}', 'Male', 'Female'], loc='upper center', bbox_to_anchor=(1.6, 1.02), shadow=False, ncol=1)\n",
    "plt.title('BMI according to sex')\n",
    "plt.xlabel('BMI')\n",
    "plt.ylabel('Count')\n",
    "ax2 = ax.twinx()\n",
    "ax2.set_ylabel('Density')\n",
    "ax2.set_ylim(0,1)\n",
    "plt.show()"
   ]
  },
  {
   "cell_type": "code",
   "execution_count": null,
   "id": "71c6ddbc",
   "metadata": {},
   "outputs": [],
   "source": [
    "var = 'A0bmi'\n",
    "title = 'BMI'\n",
    "median = str(\"%.2f\" % dem1[var].median())\n",
    "mean = \"%.2f\" % dem1[var].mean() \n",
    "std = \"%.2f\" % dem1[var].std()\n",
    "    \n",
    "plt.figure(figsize=(3.2, 4.2))\n",
    "ax = sns.histplot(data = dem1, x = var, color = \"#a4a4a4ff\")\n",
    "plt.plot([], [], ' ', label = f'n= {df[var].count()}')\n",
    "plt.axvline(df[var].median(), linestyle='dashed', linewidth=2, color = '#efbf45', label = f'Median= {median}')\n",
    "plt.axvline(df[var].mean(), linestyle='dashed', linewidth=2, color = '#8e74da', label = f'Mean= {mean}')\n",
    "plt.plot([], [], ' ', label = f'Standard Deviation= {std}')\n",
    "plt.legend(loc='upper center', bbox_to_anchor=(1.65, 1.02), shadow=False, ncol=1)\n",
    "plt.title(title)\n",
    "plt.xlabel(var)\n",
    "plt.ylabel('Count')\n",
    "ax2 = ax.twinx()\n",
    "ax2.set_ylabel('Density')\n",
    "ax2.set_ylim(0,1)\n",
    "plt.show()"
   ]
  },
  {
   "cell_type": "code",
   "execution_count": null,
   "id": "b63f32f4",
   "metadata": {},
   "outputs": [],
   "source": [
    "dem=dem1\n",
    "a = len(dem.loc[(dem['A0bmi']<18.5)])\n",
    "b = a/len(dem)*100\n",
    "\n",
    "c = len(dem.loc[(dem['A0bmi']>=18.5) & (dem['A0bmi']<25)])\n",
    "d = c/len(dem)*100\n",
    "\n",
    "e = len(dem.loc[(dem['A0bmi']>=25) & (dem['A0bmi']<35)])\n",
    "f = e/len(dem)*100\n",
    "\n",
    "g = len(dem.loc[(dem['A0bmi']>=35)])\n",
    "h = g/len(dem)*100\n",
    "\n",
    "print('under:', '\\n', a,'\\n','%.1f'%b, '\\n', \n",
    "      'normal:', '\\n', c,'\\n','%.1f'%d, '\\n',\n",
    "      'over:', '\\n', e,'\\n','%.1f'%f, '\\n',\n",
    "      'obese:', '\\n', g,'\\n','%.1f'%h, '\\n'\n",
    "     )"
   ]
  },
  {
   "cell_type": "code",
   "execution_count": null,
   "id": "5bebdec8",
   "metadata": {},
   "outputs": [],
   "source": []
  }
 ],
 "metadata": {
  "kernelspec": {
   "display_name": "Python 3 (ipykernel)",
   "language": "python",
   "name": "python3"
  },
  "language_info": {
   "codemirror_mode": {
    "name": "ipython",
    "version": 3
   },
   "file_extension": ".py",
   "mimetype": "text/x-python",
   "name": "python",
   "nbconvert_exporter": "python",
   "pygments_lexer": "ipython3",
   "version": "3.8.2"
  }
 },
 "nbformat": 4,
 "nbformat_minor": 5
}
